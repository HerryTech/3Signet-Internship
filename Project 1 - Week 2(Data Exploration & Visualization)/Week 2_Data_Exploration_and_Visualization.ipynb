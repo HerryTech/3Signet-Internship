{
 "cells": [
  {
   "cell_type": "markdown",
   "id": "6094217e-e668-4ddc-82b8-6bf57396e9a2",
   "metadata": {},
   "source": [
    "##### Note!!! All output has been cleared to reduce size for Github upload"
   ]
  },
  {
   "cell_type": "markdown",
   "id": "de1fa6c8-7ccc-4232-98b6-cec9913c0633",
   "metadata": {},
   "source": [
    "#### Import necessary libraries"
   ]
  },
  {
   "cell_type": "code",
   "execution_count": null,
   "id": "eafcf84c-ae85-464c-9886-e400fb0bde9b",
   "metadata": {},
   "outputs": [],
   "source": [
    "import numpy as np\n",
    "import pandas as pd\n",
    "import matplotlib.pyplot as plt\n",
    "import seaborn as sns\n",
    "from scipy.stats import chi2_contingency\n",
    "from sklearn.preprocessing import StandardScaler\n",
    "from sklearn.decomposition import PCA\n",
    "import plotly.express as px\n",
    "from pandas.plotting import parallel_coordinates"
   ]
  },
  {
   "cell_type": "markdown",
   "id": "b2ff7e65-ddad-4023-8fc6-ddbba9039e3c",
   "metadata": {},
   "source": [
    "#### Load dataset (The already cleaned and transformed dataset from week 1)"
   ]
  },
  {
   "cell_type": "code",
   "execution_count": null,
   "id": "ee653a3b-1db1-4bb8-a1c3-507f7b980212",
   "metadata": {},
   "outputs": [],
   "source": [
    "school_data = pd.read_csv(\"cleaned_transformed_dataset.csv\")"
   ]
  },
  {
   "cell_type": "code",
   "execution_count": null,
   "id": "185e4d94-d066-4555-940d-466c1b01bf84",
   "metadata": {},
   "outputs": [],
   "source": [
    "pd.set_option(\"display.max_columns\", None)"
   ]
  },
  {
   "cell_type": "code",
   "execution_count": null,
   "id": "53611915-2ab3-43c7-ae3a-fc51bcb45692",
   "metadata": {},
   "outputs": [],
   "source": [
    "#check first few rows\n",
    "school_data.head()"
   ]
  },
  {
   "cell_type": "markdown",
   "id": "4f54fc29-e093-43db-ab58-7b0f212a964a",
   "metadata": {},
   "source": [
    "#### Univariate Analysis"
   ]
  },
  {
   "cell_type": "markdown",
   "id": "732596ab-2501-46db-bad5-149a3f98775a",
   "metadata": {},
   "source": [
    "##### - Descriptive Statistics"
   ]
  },
  {
   "cell_type": "code",
   "execution_count": null,
   "id": "561bdd32-f2cb-49f7-85d0-25888b4d2653",
   "metadata": {},
   "outputs": [],
   "source": [
    "school_data.describe().T"
   ]
  },
  {
   "cell_type": "code",
   "execution_count": null,
   "id": "8aea88e9-a081-463e-8c50-ff1b4d87c800",
   "metadata": {},
   "outputs": [],
   "source": [
    "school_data.columns"
   ]
  },
  {
   "cell_type": "code",
   "execution_count": null,
   "id": "475ba7b7-fa94-43b7-8b36-3e8631692f76",
   "metadata": {},
   "outputs": [],
   "source": [
    "numerical_variables = [\"Application order\",\"Previous qualification (grade)\",\"Admission grade\",\n",
    "    \"Age at enrollment\",\"Curricular units 1st sem (credited)\",\"Curricular units 1st sem (enrolled)\",\n",
    "    \"Curricular units 1st sem (evaluations)\",\"Curricular units 1st sem (approved)\",\"Curricular units 1st sem (grade)\",\n",
    "    \"Curricular units 1st sem (without evaluations)\",\"Curricular units 2nd sem (credited)\",\"Curricular units 2nd sem (enrolled)\",\n",
    "    \"Curricular units 2nd sem (evaluations)\",\"Curricular units 2nd sem (approved)\",\"Curricular units 2nd sem (grade)\",\n",
    "    \"Curricular units 2nd sem (without evaluations)\",\"Unemployment rate\",\"Inflation rate\",\"GDP\",'Total Curricular Units 1st Semester',\n",
    "    'Total Curricular Units 2nd Semester', 'Total Credits Earned', 'Total Units Enrolled', 'Weighted Grade 1st Semester',\n",
    "     'Weighted Grade 2nd Semester', 'GPA'\n",
    "]"
   ]
  },
  {
   "cell_type": "markdown",
   "id": "c467f81b-7ae8-4ed4-bdab-57231f6f7916",
   "metadata": {},
   "source": [
    "##### - Histograms for numerical variables"
   ]
  },
  {
   "cell_type": "code",
   "execution_count": null,
   "id": "69cf07e8-75e5-4350-b4a8-070d53db0297",
   "metadata": {},
   "outputs": [],
   "source": [
    "import warnings\n",
    "\n",
    "# Suppress FutureWarnings\n",
    "warnings.simplefilter(action='ignore', category=FutureWarning)"
   ]
  },
  {
   "cell_type": "code",
   "execution_count": null,
   "id": "aa4bf861-51f7-4c03-996f-683be37aa4c5",
   "metadata": {},
   "outputs": [],
   "source": [
    "# Number of columns to plot\n",
    "num_columns = len(numerical_variables)\n",
    "\n",
    "# Determine the number of rows and columns for the subplot grid\n",
    "ncols = 4\n",
    "nrows = int(np.ceil(num_columns / ncols))\n",
    "\n",
    "# Create a larger figure with subplots\n",
    "fig, axes = plt.subplots(nrows=nrows, ncols=ncols, figsize=(15, 5 * nrows))\n",
    "\n",
    "# Flatten the axes array for easy iteration\n",
    "axes = axes.flatten()\n",
    "\n",
    "# Plot each column\n",
    "for i, col in enumerate(numerical_variables):\n",
    "    sns.histplot(school_data[col], ax=axes[i], kde=True, bins=20)\n",
    "    axes[i].set_title(f\"Distribution of {col}\")\n",
    "    axes[i].grid(False)\n",
    "\n",
    "# Remove any unused subplots\n",
    "for j in range(i + 1, len(axes)):\n",
    "    fig.delaxes(axes[j])\n",
    "\n",
    "# Adjust spacing between subplots\n",
    "plt.tight_layout()\n",
    "plt.savefig('Histograms for numerical variables.png', dpi=300)\n",
    "plt.show()"
   ]
  },
  {
   "cell_type": "markdown",
   "id": "08e3a3d1-47b8-4d30-9fe6-cc0beef41dff",
   "metadata": {},
   "source": [
    "##### - Boxplot for numerical variables"
   ]
  },
  {
   "cell_type": "code",
   "execution_count": null,
   "id": "aa7cf8d2-69b9-46e4-ba19-722e32d43e24",
   "metadata": {},
   "outputs": [],
   "source": [
    "# Number of columns to plot\n",
    "num_columns = len(numerical_variables)\n",
    "\n",
    "# Determine the number of columns and rows for each figure\n",
    "fig_columns = 4\n",
    "fig_rows = 5\n",
    "\n",
    "# Create subplots in chunks\n",
    "for start in range(0, num_columns, fig_columns * fig_rows):\n",
    "    end = min(start + fig_columns * fig_rows, num_columns)\n",
    "    fig, axes = plt.subplots(nrows=fig_rows, ncols=fig_columns, figsize=(15, 5 * fig_rows))\n",
    "    axes = axes.flatten()\n",
    "\n",
    "    # Plot each column in the current figure\n",
    "    for i, col in enumerate(numerical_variables[start:end]):\n",
    "        # Create box plot\n",
    "        sns.boxplot(x=school_data[col], ax=axes[i])\n",
    "        axes[i].set_title(f\"Box Plot of {col}\")\n",
    "        axes[i].grid(False)\n",
    "\n",
    "    # Remove any unused subplots\n",
    "    for j in range(i + 1, len(axes)):\n",
    "        fig.delaxes(axes[j])\n",
    "\n",
    "    # Adjust spacing between subplots\n",
    "    plt.tight_layout()\n",
    "    plt.savefig('Boxplot for numerical variables.png', dpi=300)\n",
    "    plt.show()"
   ]
  },
  {
   "cell_type": "markdown",
   "id": "a1df45af-6b4b-45c3-aa5a-de5419554d86",
   "metadata": {},
   "source": [
    "##### - Bar charts for categorical variables"
   ]
  },
  {
   "cell_type": "code",
   "execution_count": null,
   "id": "e1e784cb-bb26-4c72-bdce-7671e3c194a8",
   "metadata": {},
   "outputs": [],
   "source": [
    "categorical_variables = [\"Marital status\",\"Application mode\",\"Course\",\"Previous qualification\",\n",
    "                         \"Nationality\",\"Mother's qualification\",\"Father's qualification\", \"Daytime/evening attendance\",\n",
    "                         \"Displaced\", \"Debtor\", \"Tuition fees up to date\", \"Gender\", \"Scholarship holder\", \"International\",\n",
    "                         \"Mother's occupation\",\"Father's occupation\",\"Target\"\n",
    "                        ]"
   ]
  },
  {
   "cell_type": "code",
   "execution_count": null,
   "id": "c8c88381-9915-4318-a678-be4563712a30",
   "metadata": {},
   "outputs": [],
   "source": [
    "# Determine the number of columns and rows for each figure\n",
    "fig_columns = 3\n",
    "fig_rows = 4\n",
    "\n",
    "# Create subplots in chunks\n",
    "for start in range(0, len(categorical_variables), fig_columns * fig_rows):\n",
    "    end = min(start + fig_columns * fig_rows, len(categorical_variables))\n",
    "    fig, axes = plt.subplots(nrows=fig_rows, ncols=fig_columns, figsize=(18, 5 * fig_rows))\n",
    "    axes = axes.flatten()\n",
    "\n",
    "    # Plot each categorical variable in the current figure\n",
    "    for i, col in enumerate(categorical_variables[start:end]):\n",
    "        # Create horizontal bar plot if the x-axis labels are too jam-packed\n",
    "        if len(school_data[col].unique()) > 10:  # Adjust threshold if necessary\n",
    "            sns.countplot(data=school_data, y=col, ax=axes[i], palette='viridis')\n",
    "            axes[i].set_title(f\"Bar Plot of {col}\")\n",
    "        else:\n",
    "            sns.countplot(data=school_data, x=col, ax=axes[i], palette='viridis')\n",
    "            axes[i].set_title(f\"Bar Plot of {col}\")\n",
    "        \n",
    "        # Rotate x-axis labels for better readability if using vertical bars\n",
    "        if len(school_data[col].unique()) <= 10:\n",
    "            axes[i].tick_params(axis='x', rotation=45)\n",
    "        \n",
    "        axes[i].grid(False)\n",
    "\n",
    "    # Remove any unused subplots\n",
    "    for j in range(i + 1, len(axes)):\n",
    "        fig.delaxes(axes[j])\n",
    "\n",
    "    # Adjust spacing between subplots\n",
    "    plt.tight_layout()\n",
    "    plt.savefig('Bar charts for categorical variables.png', dpi=300)\n",
    "    plt.show()"
   ]
  },
  {
   "cell_type": "markdown",
   "id": "3f3b2c73-720d-4348-a10a-ecb380adb8a7",
   "metadata": {},
   "source": [
    "#### Bivariate Analysis"
   ]
  },
  {
   "cell_type": "markdown",
   "id": "4914586d-986d-4f10-a5ab-78152604287c",
   "metadata": {},
   "source": [
    "##### - Scatter plots for pairs of numerical variables"
   ]
  },
  {
   "cell_type": "code",
   "execution_count": null,
   "id": "36d749ba-a506-4107-9c72-88ad916e2ece",
   "metadata": {},
   "outputs": [],
   "source": [
    "num_vars = len(numerical_variables)\n",
    "num_cols = 3\n",
    "num_rows = 10\n",
    "\n",
    "fig, axes = plt.subplots(nrows=num_rows, ncols=num_cols, figsize=(15, 25))  # Adjusted figure size\n",
    "\n",
    "# Flatten the axes array for easier indexing\n",
    "axes = axes.flatten()\n",
    "\n",
    "# Generate all unique pairs of numerical variables\n",
    "pairs = [(var1, var2) for var1 in numerical_variables for var2 in numerical_variables if var1 != var2]\n",
    "\n",
    "for idx, (var1, var2) in enumerate(pairs):\n",
    "    if idx < len(axes):  # Check if we have enough subplots\n",
    "        ax = axes[idx]\n",
    "        ax.scatter(school_data[var1], school_data[var2])\n",
    "        ax.set_xlabel(var1, fontsize=8)\n",
    "        ax.set_ylabel(var2, fontsize=8)\n",
    "        ax.set_title(f\"{var1} vs. {var2}\", fontsize=10)\n",
    "    else:\n",
    "        break  # Exit loop if we have used all available subplots\n",
    "\n",
    "# Hide any remaining empty subplots\n",
    "for ax in axes[len(pairs):]:\n",
    "    ax.axis('off')\n",
    "\n",
    "# Adjust layout to reduce space\n",
    "plt.tight_layout(pad=1.0)  # Reduced padding between subplots\n",
    "plt.subplots_adjust(hspace=0.5, wspace=0.3)  # Reduced space between rows and columns\n",
    "plt.savefig('Scatter plots for pairs of numerical variables.png', dpi=300)\n",
    "plt.show()\n"
   ]
  },
  {
   "cell_type": "markdown",
   "id": "89d44cf7-339a-4ab0-a553-fe8a4309d4bd",
   "metadata": {},
   "source": [
    "##### - Box plots of numerical variables grouped by categorical variables"
   ]
  },
  {
   "cell_type": "code",
   "execution_count": null,
   "id": "86da3319-7c9d-439c-b05b-28261bb042bf",
   "metadata": {},
   "outputs": [],
   "source": [
    "# Create box plots\n",
    "for num_var in numerical_variables:\n",
    "    for cat_var in categorical_variables:\n",
    "        plt.figure(figsize=(8, 6))\n",
    "        sns.boxplot(x=cat_var, y=num_var, data=school_data)\n",
    "        plt.title(f'Box Plot of {num_var} by {cat_var}')\n",
    "        plt.xticks(rotation=45)  # Rotate x-axis labels for better readability\n",
    "\n",
    "        plt.savefig(\"boxplot.png\", dpi=300, bbox_inches='tight')\n",
    "        plt.tight_layout()\n",
    "        plt.show()"
   ]
  },
  {
   "cell_type": "markdown",
   "id": "cca688d5-6b27-4426-960d-417ccb35db5f",
   "metadata": {},
   "source": [
    "##### - Correlation analysis"
   ]
  },
  {
   "cell_type": "code",
   "execution_count": null,
   "id": "89cdc4b3-4116-428e-9270-a380782c1bcf",
   "metadata": {},
   "outputs": [],
   "source": [
    "numeric_data = school_data.select_dtypes(include=['number'])\n",
    "correlation_matrix = numeric_data.corr(method = \"pearson\")"
   ]
  },
  {
   "cell_type": "code",
   "execution_count": null,
   "id": "a26402d5-8e77-47ad-be07-620a86b9b0dc",
   "metadata": {},
   "outputs": [],
   "source": [
    "correlation_matrix"
   ]
  },
  {
   "cell_type": "code",
   "execution_count": null,
   "id": "30fda5fc-2a9d-4e58-8077-29d860f96176",
   "metadata": {},
   "outputs": [],
   "source": [
    "plt.figure(figsize = (10, 10))\n",
    "sns.heatmap(correlation_matrix, vmin = -1, vmax = 1, annot = False, fmt = '.2f', cmap = \"YlGnBu\", cbar = True, linewidths = 0.5)\n",
    "plt.title(\"Pearson Correlation\")\n",
    "plt.savefig(\"Heatmap.png\", dpi=300, bbox_inches='tight')\n",
    "plt.show()"
   ]
  },
  {
   "cell_type": "markdown",
   "id": "02012d42-f4a8-42f4-8d0a-dfc75caf26dc",
   "metadata": {},
   "source": [
    "##### - Chi-square tests for categorical variables"
   ]
  },
  {
   "cell_type": "code",
   "execution_count": null,
   "id": "8daab6e7-f890-4a0c-8dc8-cae53f9a012f",
   "metadata": {},
   "outputs": [],
   "source": [
    "# Loop through each pair of categorical variables\n",
    "for var1 in categorical_variables:\n",
    "    for var2 in categorical_variables:\n",
    "        if var1 != var2:  # Avoid testing a variable against itself\n",
    "            # Create a contingency table\n",
    "            contingency_table = pd.crosstab(school_data[var1], school_data[var2])\n",
    "\n",
    "            # Perform the chi-square test\n",
    "            chi2, p_value, dof, expected = chi2_contingency(contingency_table)\n",
    "\n",
    "            # Print the results\n",
    "            print(f\"Chi-Square Test for {var1} and {var2}\")\n",
    "            print(f\"Chi-Square Statistic: {chi2}\")\n",
    "            print(f\"P-value: {p_value}\")\n",
    "            print(f\"Degrees of Freedom: {dof}\")\n",
    "            print(\"\\n\")"
   ]
  },
  {
   "cell_type": "markdown",
   "id": "c6e6cf21-ee26-45f1-94d4-f6c73178ebd8",
   "metadata": {},
   "source": [
    "#### Multivariate Analysis"
   ]
  },
  {
   "cell_type": "markdown",
   "id": "36e3986a-cf26-49b9-8722-f3754efb85bc",
   "metadata": {},
   "source": [
    "##### - Pair plots"
   ]
  },
  {
   "cell_type": "code",
   "execution_count": null,
   "id": "4072a04e-a9eb-49dc-bfe1-f343b591074a",
   "metadata": {},
   "outputs": [],
   "source": [
    "sns.set_style(\"whitegrid\")\n",
    "sns.pairplot(school_data, hue = \"Target\", height = 3)\n",
    "plt.show()"
   ]
  },
  {
   "cell_type": "markdown",
   "id": "199c4aa8-f403-4789-9355-682dd5903e63",
   "metadata": {},
   "source": [
    "- The pairplot is alot and not visible to read. Based on the correlation analysis. I'll pick most relevant columns for the pairplot analysis"
   ]
  },
  {
   "cell_type": "code",
   "execution_count": null,
   "id": "e47a05fe-4f3f-4e9a-a0f9-b505f71910ae",
   "metadata": {},
   "outputs": [],
   "source": [
    "subset = [\"Curricular units 1st sem (approved)\",\"Curricular units 1st sem (grade)\",\"Curricular units 2nd sem (approved)\",\n",
    "          \"Curricular units 2nd sem (grade)\", \"Tuition fees up to date\", \"Scholarship holder\"\n",
    "    ]"
   ]
  },
  {
   "cell_type": "code",
   "execution_count": null,
   "id": "2fbfddec-79fd-4cb1-a5a0-051c3de27136",
   "metadata": {},
   "outputs": [],
   "source": [
    "# Set the seaborn style\n",
    "sns.set_style(\"whitegrid\")\n",
    "\n",
    "# Generate a list of colors from the viridis colormap\n",
    "num_classes = school_data['Target'].nunique()  # Get the number of unique classes in 'Target'\n",
    "viridis_colors = sns.color_palette(\"viridis\", num_classes)\n",
    "\n",
    "# Create the pairplot with the viridis color palette\n",
    "sns.pairplot(school_data[subset + ['Target']], hue=\"Target\", height=3, aspect=1.2, palette=viridis_colors)\n",
    "\n",
    "# Show the plot\n",
    "plt.savefig('Pairplot.png', dpi=300)\n",
    "plt.show()\n"
   ]
  },
  {
   "cell_type": "markdown",
   "id": "d7432f03-1c4e-4857-87ee-13d9ca0e4721",
   "metadata": {},
   "source": [
    "##### - Principal component analysis (PCA)"
   ]
  },
  {
   "cell_type": "code",
   "execution_count": null,
   "id": "3bf1bf9d-a17c-403c-a42c-8ac220ba5896",
   "metadata": {},
   "outputs": [],
   "source": [
    "features = school_data.drop(\"Target\", axis = 1)"
   ]
  },
  {
   "cell_type": "code",
   "execution_count": null,
   "id": "1b16b07d-352b-476b-82ac-21ce233d6211",
   "metadata": {},
   "outputs": [],
   "source": [
    "# Standardize the Data\n",
    "scaler = StandardScaler()\n",
    "scaled_data = scaler.fit_transform(features)"
   ]
  },
  {
   "cell_type": "code",
   "execution_count": null,
   "id": "ef016b58-6a90-4714-86d5-a52150697564",
   "metadata": {},
   "outputs": [],
   "source": [
    "#Perform PCA\n",
    "# Fit PCA with 2 components for visualization\n",
    "pca = PCA(n_components=2)\n",
    "pca_data = pca.fit_transform(scaled_data)"
   ]
  },
  {
   "cell_type": "code",
   "execution_count": null,
   "id": "6c629b75-50f1-4fa6-b8aa-61d4c08152b6",
   "metadata": {},
   "outputs": [],
   "source": [
    "print(scaled_data.shape)\n",
    "print(pca_data.shape)"
   ]
  },
  {
   "cell_type": "code",
   "execution_count": null,
   "id": "55db81ee-8567-455a-bb42-ce505d86fac8",
   "metadata": {},
   "outputs": [],
   "source": [
    "# Get explained variance ratio\n",
    "explained_variance = pca.explained_variance_ratio_\n",
    "print(\"Explained Variance Ratio:\", explained_variance)"
   ]
  },
  {
   "cell_type": "code",
   "execution_count": null,
   "id": "f4e1ab57-d8be-46b3-b276-6aa73339cbfe",
   "metadata": {},
   "outputs": [],
   "source": [
    "# Scatter Plot of the First Two Principal Components\n",
    "plt.figure(figsize=(8,6))\n",
    "plt.scatter(pca_data[:, 0], pca_data[:, 1], c=school_data[\"Target\"], cmap='plasma', alpha=0.7)\n",
    "plt.title('PCA of Dataset')\n",
    "plt.xlabel('First Principal Component')\n",
    "plt.ylabel('Second Principal Component')\n",
    "plt.colorbar()\n",
    "plt.savefig('PCA.png', dpi=300)\n",
    "plt.show()\n"
   ]
  },
  {
   "cell_type": "code",
   "execution_count": null,
   "id": "cf6fdd94-ec20-420a-b484-42f43762d570",
   "metadata": {},
   "outputs": [],
   "source": [
    "pca.components_"
   ]
  },
  {
   "cell_type": "code",
   "execution_count": null,
   "id": "d0942ebd-39c4-4ba1-9804-70019e732e1c",
   "metadata": {},
   "outputs": [],
   "source": [
    "school_comp = pd.DataFrame(pca.components_, columns = features.columns)\n",
    "plt.figure(figsize=(12,6))\n",
    "sns.heatmap(school_comp, cmap = \"plasma\")\n",
    "plt.savefig('PCA Heatmap.png', dpi=300)\n",
    "plt.show()"
   ]
  },
  {
   "cell_type": "markdown",
   "id": "bf08c76d-3999-4c1a-bb79-bed7885f9512",
   "metadata": {},
   "source": [
    "##### - Parallel coordinates plot"
   ]
  },
  {
   "cell_type": "code",
   "execution_count": null,
   "id": "e29e5ed9-8a48-420f-8816-60fa1e757397",
   "metadata": {},
   "outputs": [],
   "source": [
    "plt.figure(figsize=(14, 8))\n",
    "parallel_coordinates(school_data, class_column='Target', colormap=plt.get_cmap(\"Set2\"))\n",
    "\n",
    "# Rotate the x-axis labels to avoid overlapping and set appropriate label sizes\n",
    "plt.xticks(rotation=90, fontsize=12) \n",
    "plt.title('Parallel Coordinates Plot', fontsize=16)\n",
    "plt.xlabel('Features', fontsize=14)\n",
    "plt.ylabel('Values', fontsize=14)\n",
    "\n",
    "# Show the plot\n",
    "plt.tight_layout()\n",
    "plt.savefig('Parallel coordinates plot.png', dpi=300)\n",
    "plt.show()"
   ]
  },
  {
   "cell_type": "markdown",
   "id": "4416f5a7-e8aa-4cc9-9960-a982770e41fc",
   "metadata": {},
   "source": [
    "#### Advanced Visualization"
   ]
  },
  {
   "cell_type": "markdown",
   "id": "388798ad-3ba4-4b07-a564-90c46036284d",
   "metadata": {},
   "source": [
    "##### - Distribution of Admission Grades"
   ]
  },
  {
   "cell_type": "code",
   "execution_count": null,
   "id": "81486b25-5153-4440-b0b0-56e81bea6737",
   "metadata": {},
   "outputs": [],
   "source": [
    "fig = px.histogram(school_data, x='Age at enrollment', nbins=30, title='Distribution of Age at enrollment', height=500,\n",
    "                  color_discrete_sequence=px.colors.qualitative.Set2) \n",
    "fig.show()"
   ]
  },
  {
   "cell_type": "code",
   "execution_count": null,
   "id": "f3489b52-2108-4991-b897-bd68076f3b0c",
   "metadata": {},
   "outputs": [],
   "source": [
    "fig = px.pie(school_data, names='Marital status', title='Marital Status Distribution',\n",
    "            color_discrete_sequence=px.colors.qualitative.Set2)\n",
    "fig.show()"
   ]
  },
  {
   "cell_type": "code",
   "execution_count": null,
   "id": "80baba89-1ccc-453b-9ff5-c1339dd365d9",
   "metadata": {},
   "outputs": [],
   "source": [
    "fig = px.pie(school_data, names='Target', title='Target Status Distribution')\n",
    "fig.show()"
   ]
  },
  {
   "cell_type": "code",
   "execution_count": null,
   "id": "006f4ef5-4fb5-49fa-a3e2-e7c5e1498651",
   "metadata": {},
   "outputs": [],
   "source": [
    "scholarship_holder_counts = school_data['Scholarship holder'].value_counts()\n",
    "\n",
    "# Create a bar chart\n",
    "fig = px.bar(\n",
    "    x=scholarship_holder_counts.index,\n",
    "    y=scholarship_holder_counts.values,\n",
    "    title='Scholarship holder Breakdown',\n",
    "    labels={'x': 'Scholarship holder', 'y': 'Count'},\n",
    "    color_discrete_sequence=px.colors.qualitative.Set3\n",
    ")\n",
    "\n",
    "# Show the bar chart\n",
    "fig.show()"
   ]
  },
  {
   "cell_type": "code",
   "execution_count": null,
   "id": "7abaa5c3-6849-48f8-a9b4-c60af9071690",
   "metadata": {},
   "outputs": [],
   "source": [
    "fig = px.pie(school_data, names='Scholarship holder', title='Scholarship holder Distribution',\n",
    "            color_discrete_sequence=px.colors.qualitative.Set3)\n",
    "fig.show()"
   ]
  },
  {
   "cell_type": "code",
   "execution_count": null,
   "id": "3b361b04-d70f-4e1b-835b-5fd3b00d4da1",
   "metadata": {},
   "outputs": [],
   "source": [
    "# Categorizing 'Age at enrollment' into age groups\n",
    "school_data['Age Group'] = pd.cut(school_data['Age at enrollment'], bins=[0, 0.2, 0.4, 0.6, 0.8, 1], \n",
    "                         labels=['0-0.2', '0.2-0.4', '0.4-0.6', '0.6-0.8', '0.8-1'])\n",
    "\n",
    "# Plotting the boxplot for GPA by Age Group\n",
    "fig = px.box(school_data, x='Age Group', y='GPA', title='GPA Distribution by Age Group', height = 500)\n",
    "fig.show()\n"
   ]
  },
  {
   "cell_type": "code",
   "execution_count": null,
   "id": "9cb1c1fc-da8e-49c9-a9df-fb7d5de5fcf3",
   "metadata": {},
   "outputs": [],
   "source": [
    "# Aggregate data to get counts\n",
    "count_data = school_data.groupby(['Target', 'Gender']).size().reset_index(name='Count')\n",
    "\n",
    "# Create grouped bar plot\n",
    "fig = px.bar(count_data, \n",
    "             x=\"Gender\", \n",
    "             y=\"Count\", \n",
    "             color=\"Target\",\n",
    "             barmode='group',\n",
    "             title=\"Distribution of Target by Gender\",\n",
    "             labels={\"Gender\": \"Gender Value\", \"Count\": \"Count\", \"Target\": \"Target (0=Dropout, 1=Enrolled, 2=Graduate)\"},\n",
    "             category_orders={\"Gender\": [0, 1]}, height = 500\n",
    "            )\n",
    "fig.show()"
   ]
  },
  {
   "cell_type": "code",
   "execution_count": null,
   "id": "6a44f5a6-8961-43d6-a914-7a3c6ce68e95",
   "metadata": {},
   "outputs": [],
   "source": [
    "# Aggregate data to get counts\n",
    "count_data = school_data.groupby(['Target', 'Tuition fees up to date']).size().reset_index(name='Count')\n",
    "\n",
    "# Create grouped bar plot\n",
    "fig = px.bar(count_data, \n",
    "             x=\"Tuition fees up to date\", \n",
    "             y=\"Count\", \n",
    "             color=\"Target\",\n",
    "             color_discrete_sequence=px.colors.sequential.Plasma,\n",
    "             barmode='group',\n",
    "             title=\"Distribution of Target by Tuition fees up to date\",\n",
    "             labels={\"Tuition fees up to date\": \"Tuition fees up to date Value\", \"Count\": \"Count\", \"Target\": \"Target (0=Dropout, 1=Enrolled, 2=Graduate)\"},\n",
    "             category_orders={\"Gender\": [0, 1]}, height = 500)\n",
    "fig.show()"
   ]
  },
  {
   "cell_type": "code",
   "execution_count": null,
   "id": "163625b0-8e7c-47b8-87cc-1d6f4342c0ec",
   "metadata": {},
   "outputs": [],
   "source": [
    "fig = px.histogram(school_data, x='Age at enrollment', title='Age Distribution at Enrollment', height = 500,\n",
    "                  color_discrete_sequence=px.colors.qualitative.Set2)\n",
    "fig.show()"
   ]
  },
  {
   "cell_type": "code",
   "execution_count": null,
   "id": "515ec67a-267a-4615-8312-efbc8d3be966",
   "metadata": {},
   "outputs": [],
   "source": [
    "fig = px.pie(school_data, names='Displaced', title='Displaced Distribution',\n",
    "            color_discrete_sequence=px.colors.qualitative.Set3)\n",
    "fig.show()"
   ]
  },
  {
   "cell_type": "code",
   "execution_count": null,
   "id": "06ac508d-6307-4829-98b3-36be70bf0147",
   "metadata": {},
   "outputs": [],
   "source": [
    "Daytime_evening_attendance_counts = school_data['Daytime/evening attendance'].value_counts()\n",
    "\n",
    "# Create a bar chart\n",
    "fig = px.bar(\n",
    "    x=Daytime_evening_attendance_counts.index,\n",
    "    y=Daytime_evening_attendance_counts.values,\n",
    "    title='Daytime/evening attendance Breakdown',\n",
    "    labels={'x': 'Daytime/evening attendance', 'y': 'Count'},\n",
    "    color_discrete_sequence=px.colors.qualitative.Set3, height = 500\n",
    ")\n",
    "\n",
    "# Show the bar chart\n",
    "fig.show()"
   ]
  },
  {
   "cell_type": "code",
   "execution_count": null,
   "id": "8b71e8fb-071d-435d-88e3-c878efd50132",
   "metadata": {},
   "outputs": [],
   "source": [
    "fig = px.scatter(school_data, x='Age at enrollment', y='GPA', title='Age vs. GPA', height = 500)\n",
    "fig.show()"
   ]
  },
  {
   "cell_type": "code",
   "execution_count": null,
   "id": "c4622b28-3d13-41de-9441-35054e44b785",
   "metadata": {},
   "outputs": [],
   "source": [
    "fig = px.box(school_data, x='Target', y='Mother\\'s qualification', title='Mother\\'s Qualification vs Target', height=500)\n",
    "fig.show()\n",
    "\n",
    "fig = px.box(school_data, x='Target', y='Father\\'s qualification', title='Father\\'s Qualification vs Target', height=500)\n",
    "fig.show()\n"
   ]
  },
  {
   "cell_type": "code",
   "execution_count": null,
   "id": "a92cf535-2227-4301-b71f-c284317505e1",
   "metadata": {},
   "outputs": [],
   "source": [
    "fig = px.pie(school_data, names='Debtor', title='Percentage of Students with Debt',\n",
    "            color_discrete_sequence=px.colors.qualitative.Set3)\n",
    "fig.show()\n"
   ]
  },
  {
   "cell_type": "code",
   "execution_count": null,
   "id": "e8fdd7fa-175b-4ac0-a802-6aa1a170a115",
   "metadata": {},
   "outputs": [],
   "source": [
    "fig = px.box(school_data, x=\"course\", y=\"Admission grade\", title=\"Admission Grade by Course\", height = 500)\n",
    "fig.show()\n"
   ]
  },
  {
   "cell_type": "code",
   "execution_count": null,
   "id": "83f1fb62-ad7f-43c1-a0c3-a940830e474f",
   "metadata": {},
   "outputs": [],
   "source": [
    "fig = px.scatter(school_data, x='Admission grade', y='GPA', color='Target',\n",
    "                 title=\"Admission Grade vs GPA by Target\",\n",
    "                 labels={'Admission grade': 'Admission Grade', 'GPA': 'Final GPA'}, height = 500)\n",
    "fig.show()\n"
   ]
  },
  {
   "cell_type": "code",
   "execution_count": null,
   "id": "a6832c87-cb05-4bfa-9870-471af819f175",
   "metadata": {},
   "outputs": [],
   "source": [
    "# 1. Bar Chart of Dropout Rates by Marital Status\n",
    "marital_status_dropout = school_data.groupby(['Marital status', 'Target']).size().unstack()\n",
    "marital_status_dropout.plot(kind='bar', stacked=True)\n",
    "fig.update_layout(xaxis_title='Marital Status', yaxis_title='Number of Students')\n",
    "fig.show()"
   ]
  },
  {
   "cell_type": "code",
   "execution_count": null,
   "id": "81363ef8-a3fc-4fcf-815a-06440ff101c7",
   "metadata": {},
   "outputs": [],
   "source": [
    "# Bubble chart for Total Credits Earned vs. GPA\n",
    "fig = px.scatter(school_data, x='Total Credits Earned', y='GPA', \n",
    "                 size='Total Units Enrolled', color='Target', \n",
    "                 title='Total Credits Earned vs. GPA (Bubble Size: Total Units Enrolled)', height = 500)\n",
    "fig.show()\n"
   ]
  },
  {
   "cell_type": "code",
   "execution_count": null,
   "id": "d06c9996-210a-417d-bb0d-7c377498fef6",
   "metadata": {},
   "outputs": [],
   "source": []
  }
 ],
 "metadata": {
  "kernelspec": {
   "display_name": "Python 3 (ipykernel)",
   "language": "python",
   "name": "python3"
  },
  "language_info": {
   "codemirror_mode": {
    "name": "ipython",
    "version": 3
   },
   "file_extension": ".py",
   "mimetype": "text/x-python",
   "name": "python",
   "nbconvert_exporter": "python",
   "pygments_lexer": "ipython3",
   "version": "3.11.7"
  }
 },
 "nbformat": 4,
 "nbformat_minor": 5
}
